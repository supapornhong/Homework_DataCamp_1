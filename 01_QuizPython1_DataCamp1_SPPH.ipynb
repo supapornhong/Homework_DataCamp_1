{
 "cells": [
  {
   "cell_type": "code",
   "execution_count": null,
   "metadata": {},
   "outputs": [],
   "source": [
    "#Python Programming For Beginners : Python Crash Course Part 1"
   ]
  },
  {
   "cell_type": "code",
   "execution_count": 20,
   "metadata": {},
   "outputs": [
    {
     "name": "stdout",
     "output_type": "stream",
     "text": [
      "180.3846153846154\n",
      "5\n"
     ]
    }
   ],
   "source": [
    "#Quiz 1\n",
    "#Q1.1 เขียนคำสั่งคำนวณหาเศษเหลือจากการหาร 2345 ด้วย 13\n",
    "\n",
    "a=2345\n",
    "b=13\n",
    "c=a / b\n",
    "print(c)\n",
    "c=a % b\n",
    "print(c)"
   ]
  },
  {
   "cell_type": "code",
   "execution_count": 22,
   "metadata": {},
   "outputs": [
    {
     "name": "stdout",
     "output_type": "stream",
     "text": [
      "92\n"
     ]
    }
   ],
   "source": [
    "#Q1.2 เขียนคำสั่งหาคำตอบจากกการหาร 1567 ด้วย 17 โดยไม่เอาเศษส่วน\n",
    "\n",
    "x=1567\n",
    "y=17\n",
    "z=x // y\n",
    "print(z)"
   ]
  },
  {
   "cell_type": "code",
   "execution_count": null,
   "metadata": {},
   "outputs": [],
   "source": [
    "#Q1.3 FirstName กับ Firstname เป็นตัวแปรเดียวกันหรือไม่?\n",
    "#A1.3 เป็นตัวแปรคนละตัวกัน เพราะใน Python ตัวแปรเป็น Case Sensitive อักษรตัวเล็กตัวใหญ่ถือเป็นคนละตัวกัน"
   ]
  },
  {
   "cell_type": "code",
   "execution_count": null,
   "metadata": {},
   "outputs": [],
   "source": [
    "#Q1.4 13Friday เป็นตัวแปรที่ถูกต้องหรือไม่?\n",
    "#A1.4 ไม่ถูกต้อง เพราะใน Python กำหนดให้ตัวแปรต้องขึ้นต้นด้วยตัวอักษรเท่านั้น"
   ]
  },
  {
   "cell_type": "code",
   "execution_count": 23,
   "metadata": {},
   "outputs": [
    {
     "name": "stdout",
     "output_type": "stream",
     "text": [
      "outcome 1 is 5 and outcome 2 is 92\n"
     ]
    }
   ],
   "source": [
    "#Q1.5 จง Print ผลลัพธ์จากข้อ 1,2 โดยใช้คำสั่ง format\n",
    "\n",
    "print('outcome 1 is {} and outcome 2 is {}'.format(c,z))"
   ]
  },
  {
   "cell_type": "code",
   "execution_count": 7,
   "metadata": {},
   "outputs": [
    {
     "name": "stdout",
     "output_type": "stream",
     "text": [
      "3.0\n"
     ]
    }
   ],
   "source": [
    "#Quiz 2\n",
    "#Q2.1 เขียนฟังก์ชั่นไม่มีชื่อให้รับพารามิเตอร์ 1 ตัวและปริ้นท์ค่านั้นหารด้วย 3\n",
    "\n",
    "divide = lambda x: x/3\n",
    "print(divide(9))"
   ]
  },
  {
   "cell_type": "code",
   "execution_count": 33,
   "metadata": {},
   "outputs": [
    {
     "name": "stdout",
     "output_type": "stream",
     "text": [
      "2.5\n"
     ]
    }
   ],
   "source": [
    "#Q2.2 เขียนฟังก์ชั่นธรรมดารับค่า 4 พารามิเตอร์ และหาค่าเฉลี่ย\n",
    "\n",
    "def findMean(a,b,c,d):\n",
    "    fmean = (a+b+c+d)/4\n",
    "    return fmean\n",
    "\n",
    "meanResult = findMean(1,2,3,4)\n",
    "print(meanResult)"
   ]
  },
  {
   "cell_type": "code",
   "execution_count": 32,
   "metadata": {},
   "outputs": [
    {
     "name": "stdout",
     "output_type": "stream",
     "text": [
      "5.0\n"
     ]
    }
   ],
   "source": [
    "#Q2.3 เขียนฟังก์ชั่นไม่มีชื่อรับค่าพารามิเตอร์ 3 ตัว และหาค่าเฉลี่ย\n",
    "\n",
    "findMean2 = lambda x : (x[0]+x[1]+x[2])/3\n",
    "print(findMean2([4,5,6]))"
   ]
  },
  {
   "cell_type": "code",
   "execution_count": 36,
   "metadata": {},
   "outputs": [
    {
     "name": "stdout",
     "output_type": "stream",
     "text": [
      "5.0\n"
     ]
    }
   ],
   "source": [
    "findMean2 = (lambda x,y,z : (x+y+z)/3)(4,5,6)\n",
    "print(findMean2)"
   ]
  },
  {
   "cell_type": "code",
   "execution_count": 94,
   "metadata": {},
   "outputs": [
    {
     "name": "stdout",
     "output_type": "stream",
     "text": [
      "['Supaporn', 'Hongpisuttikul', 42]\n"
     ]
    }
   ],
   "source": [
    "#Quiz 3\n",
    "#Q3.1 สร้างลิสต์ระบุชื่อ นามสกุล อายุ ตัวเอง\n",
    "\n",
    "lst = ['Supaporn','Hongpisuttikul',42]\n",
    "print(lst)"
   ]
  },
  {
   "cell_type": "code",
   "execution_count": 41,
   "metadata": {},
   "outputs": [
    {
     "name": "stdout",
     "output_type": "stream",
     "text": [
      "['Supaporn', 'Hongpisuttikul']\n"
     ]
    }
   ],
   "source": [
    "#Q3.2 ลบอายุออกจากลิสต์\n",
    "\n",
    "del lst[2]\n",
    "print (lst)"
   ]
  },
  {
   "cell_type": "code",
   "execution_count": 49,
   "metadata": {},
   "outputs": [
    {
     "name": "stdout",
     "output_type": "stream",
     "text": [
      "32\n",
      "[32, 'Supaporn', 'Hongpisuttikul']\n"
     ]
    }
   ],
   "source": [
    "#Q3.3 ลดอายุตัวเอง 10 ปี และแทรกไว้หน้าสุดของลิสต์\n",
    "\n",
    "divAge = lst[2]-10\n",
    "print(divAge)\n",
    "del lst[2]\n",
    "lst.insert(0,divAge)\n",
    "print(lst)"
   ]
  },
  {
   "cell_type": "code",
   "execution_count": 95,
   "metadata": {},
   "outputs": [
    {
     "name": "stdout",
     "output_type": "stream",
     "text": [
      "['Supaporn', 'Hongpisuttikul', 42, 153, 53]\n"
     ]
    }
   ],
   "source": [
    "#Q3.4 เพิ่มส่วนสูง น้ำหนักลงในลิสต์ โดยไปต่อท้าย\n",
    "\n",
    "lst.append(153)\n",
    "lst.append(53)\n",
    "print(lst)"
   ]
  },
  {
   "cell_type": "code",
   "execution_count": 59,
   "metadata": {},
   "outputs": [
    {
     "name": "stdout",
     "output_type": "stream",
     "text": [
      "[42, 153, 53]\n"
     ]
    }
   ],
   "source": [
    "#Q3.5 Print สมาชิกในลิสต์ตัวที่ 3 ถึงตัวสุดท้าย\n",
    "\n",
    "print(lst[2:])"
   ]
  },
  {
   "cell_type": "code",
   "execution_count": 96,
   "metadata": {},
   "outputs": [
    {
     "name": "stdout",
     "output_type": "stream",
     "text": [
      "6\n"
     ]
    }
   ],
   "source": [
    "#Quiz 4\n",
    "#Q4.1 a = [[[1,3],[3,4]],[5,[5,6],[7,8]]] แล้ว a[1][1][1] คือค่าใด\n",
    "\n",
    "a = [[[1,3],[3,4]],[5,[5,6],[7,8]]]\n",
    "print(a[1][1][1])"
   ]
  },
  {
   "cell_type": "code",
   "execution_count": 119,
   "metadata": {},
   "outputs": [
    {
     "name": "stdout",
     "output_type": "stream",
     "text": [
      "[['a', 'b', 60], ['c', 'd', 70], ['u', 'v', 40], ['x', 'y', 80]]\n"
     ]
    }
   ],
   "source": [
    "#Q4.2 เขียนชื่อนามสกุลน้ำหนักอยู่ในลิสต์เดียวของคน 4 คนแล้วใส่ไว้ในลิสต์ (Nested List) และแสดงผล\n",
    "\n",
    "nameAll = [['a','b',60],['c','d',70],['u','v',40],['x','y',80]]\n",
    "print(nameAll)"
   ]
  },
  {
   "cell_type": "code",
   "execution_count": 107,
   "metadata": {},
   "outputs": [
    {
     "name": "stdout",
     "output_type": "stream",
     "text": [
      "[['a', 'b'], ['c', 'd'], ['u', 'v']]\n"
     ]
    }
   ],
   "source": [
    "#Q4.3 ลบคนสุดท้ายของลิสต์นั้นออกและแสดงผล\n",
    "\n",
    "del nameAll[3]\n",
    "print(nameAll)"
   ]
  },
  {
   "cell_type": "code",
   "execution_count": 120,
   "metadata": {},
   "outputs": [
    {
     "name": "stdout",
     "output_type": "stream",
     "text": [
      "[['i', 'j'], ['a', 'b', 60], ['c', 'd', 70], ['u', 'v', 40], ['x', 'y', 80]]\n"
     ]
    }
   ],
   "source": [
    "#Q4.4 เพิ่มคนที่ 5 เข้ามาเป็นคนแรกของ Nested List และแสดงผล\n",
    "\n",
    "nameAll.insert(0,['i','j'])\n",
    "print(nameAll)"
   ]
  },
  {
   "cell_type": "code",
   "execution_count": 121,
   "metadata": {},
   "outputs": [
    {
     "name": "stdout",
     "output_type": "stream",
     "text": [
      "[['i', 'j'], ['a', 'b', 70], ['c', 'd', 70], ['u', 'v', 40], ['x', 'y', 80]]\n"
     ]
    }
   ],
   "source": [
    "#Q4.5 แก้ไขน้ำหนักคนที่สอง +10 และแสดงผล\n",
    "\n",
    "nameAll[1][2] +=10\n",
    "print(nameAll)"
   ]
  },
  {
   "cell_type": "code",
   "execution_count": 3,
   "metadata": {},
   "outputs": [
    {
     "name": "stdout",
     "output_type": "stream",
     "text": [
      "[1, 8, 27, 64, 125, 216, 343, 512, 729, 1000]\n"
     ]
    }
   ],
   "source": [
    "#Quiz 5\n",
    "#Q5.1 กำหนดให้ lst = [1,2,3,4,5,6,7,8,9,10] จงเขียน Map เพื่อหาเลขยกกำลังสามทั้งหมดของ lst \n",
    "#ในรูปแบบ Lambda Function และ ฟังก์ชั่นธรรมดา\n",
    "\n",
    "#Q5.1(a) map with Lambda Function\n",
    "\n",
    "lst = [1,2,3,4,5,6,7,8,9,10]\n",
    "result = map(lambda x:x**3, lst)\n",
    "print(list(result))"
   ]
  },
  {
   "cell_type": "code",
   "execution_count": 5,
   "metadata": {},
   "outputs": [
    {
     "name": "stdout",
     "output_type": "stream",
     "text": [
      "[1, 8, 27, 64, 125, 216, 343, 512, 729, 1000]\n"
     ]
    }
   ],
   "source": [
    "#Q5.1(b) map with ฟังก์ชั่นธรรมดา\n",
    "\n",
    "def func(a):\n",
    "    return a**3\n",
    "\n",
    "lst = [1,2,3,4,5,6,7,8,9,10]\n",
    "print(list(map(func,lst)))"
   ]
  },
  {
   "cell_type": "code",
   "execution_count": 16,
   "metadata": {},
   "outputs": [
    {
     "name": "stdout",
     "output_type": "stream",
     "text": [
      "[1, 3, 5, 7, 9]\n"
     ]
    }
   ],
   "source": [
    "#Q5.2 กำหนดให้ lst = [1,2,3,4,5,6,7,8,9,10] จงเขียน Filter เพื่อหาเลขใดในลิสต์เมื่อยกกำลังสองแล้วหารสองไม่ลงตัว\n",
    "#ในรูปแบบ Lambda Function และ ฟังก์ชั่นธรรมดา\n",
    "\n",
    "#Q5.2(a) filter with Lambda Function\n",
    "lst = [1,2,3,4,5,6,7,8,9,10]\n",
    "result = filter(lambda x:((x**2)%2 !=0),lst)\n",
    "print(list(result))"
   ]
  },
  {
   "cell_type": "code",
   "execution_count": 32,
   "metadata": {},
   "outputs": [
    {
     "name": "stdout",
     "output_type": "stream",
     "text": [
      "[1, 3, 5, 7, 9]\n"
     ]
    }
   ],
   "source": [
    "#Q5.2(b) filter with ฟังก์ชั่นธรรมดา\n",
    "lst = [1,2,3,4,5,6,7,8,9,10]\n",
    "\n",
    "def func(x):\n",
    "    if (x**2)%2 !=0 :\n",
    "        return x\n",
    "    \n",
    "result = filter(func,lst)\n",
    "print(list(result))   "
   ]
  },
  {
   "cell_type": "code",
   "execution_count": 37,
   "metadata": {},
   "outputs": [
    {
     "name": "stdout",
     "output_type": "stream",
     "text": [
      "[1, 3, 5, 7, 9]\n"
     ]
    }
   ],
   "source": [
    "#Quiz 6\n",
    "#Q6.1 กำหนดให้ lst = [1,2,3,4,5] จงเขียน List Comprehension เพื่อนำทุกตัวใน lst ไปคูณกับ 2 และลบด้วย 1 \n",
    "#พร้อมกับแสดงผล\n",
    "\n",
    "lst = [1,2,3,4,5]\n",
    "lst2 = [((y*2)-1) for y in lst]\n",
    "print(lst2)"
   ]
  },
  {
   "cell_type": "code",
   "execution_count": 38,
   "metadata": {},
   "outputs": [
    {
     "name": "stdout",
     "output_type": "stream",
     "text": [
      "[1, 8, 64, 125, 343, 512, 1000, 1331, 2197]\n"
     ]
    }
   ],
   "source": [
    "#Q6.2 กำหนดให้ lst = [1,2,3,4,5,6,7,8,9,10,11,12,13] จงเขียน List Comprehension เพื่อหาตัวที่หาร 3 ไม่ลงตัว \n",
    "#และนำผลลัพธ์นั้นยกกำลังสาม พร้อมกับแสดงผล\n",
    "\n",
    "lst = [1,2,3,4,5,6,7,8,9,10,11,12,13]\n",
    "lst3 = [z**3 for z in lst if (z%3) !=0]\n",
    "print(lst3)"
   ]
  },
  {
   "cell_type": "code",
   "execution_count": 40,
   "metadata": {},
   "outputs": [
    {
     "name": "stdout",
     "output_type": "stream",
     "text": [
      "B\n"
     ]
    }
   ],
   "source": [
    "#Quiz 7\n",
    "#Q7.1 จงเขียนโปรแกรมตรวจสอบคะแนนเด็กนักเรียน ถ้าเด็กได้คะแนนมากกว่า 80 เกรด A \n",
    "#มากกว่า 70 เกรด B มากกว่า 60 เกรด C มากกว่า 50 เกรด D และต่ำกว่า 50 เกรด F\n",
    "\n",
    "#score คือ คะแนนสอบ\n",
    "score = 79\n",
    "if score >= 80 :\n",
    "    print(\"A\")\n",
    "elif score >= 70 :\n",
    "    print(\"B\")\n",
    "elif score >= 60 :\n",
    "    print(\"C\")\n",
    "elif score >= 50 :\n",
    "    print(\"D\")\n",
    "else :\n",
    "    print(\"F\")"
   ]
  },
  {
   "cell_type": "code",
   "execution_count": 41,
   "metadata": {},
   "outputs": [
    {
     "name": "stdout",
     "output_type": "stream",
     "text": [
      "[2, 9, 1, 81, 32]\n"
     ]
    }
   ],
   "source": [
    "#Quiz 8\n",
    "#Q8.1 กำหนดให้ A = [1, 2, 3, 4, 5] และ B = [2, 3, 1, 3, 2] จงเขียน Map แบบ Multiple-list operations \n",
    "#โดยให้ B ยกกำลังด้วย A พร้อมกับแสดงผล\n",
    "\n",
    "A = [1, 2, 3, 4, 5] \n",
    "B = [2, 3, 1, 3, 2]\n",
    "\n",
    "result = map(lambda A,B : B**A, A, B)\n",
    "print(list(result))"
   ]
  },
  {
   "cell_type": "code",
   "execution_count": 43,
   "metadata": {},
   "outputs": [
    {
     "name": "stdout",
     "output_type": "stream",
     "text": [
      "[('Michael', 1, 84), ('Lisa', 6, 78), ('John', 8, 69)]\n"
     ]
    }
   ],
   "source": [
    "#Q8.2 จงเขียนชื่อนักเรียน เลขที่ และคะแนนสอบไฟนอล พร้อมกับใช้คำสั่ง Zip() ในการจับคู่พร้อมกับแสดงผลลัพธ์ที่ถูกต้อง\n",
    "\n",
    "name = ['Michael', 'Lisa', 'John']\n",
    "id = [1, 6, 8]\n",
    "score =[84, 78, 69]\n",
    "\n",
    "merge = list(zip(name, id, score))\n",
    "print(merge)"
   ]
  },
  {
   "cell_type": "code",
   "execution_count": 1,
   "metadata": {},
   "outputs": [
    {
     "name": "stdout",
     "output_type": "stream",
     "text": [
      "244140625\n"
     ]
    }
   ],
   "source": [
    "#Quiz 9\n",
    "#Q9.1 กำหนดให้ lst = [5, 2, 1, 3, 2] จงเขียนฟังก์ชั่น Reduce เพื่อหาผลลัพท์สุดท้ายของดำเนินการแบบเลขยกกำลัง \n",
    "\n",
    "from functools import reduce\n",
    "lst = [5, 2, 1, 3, 2]\n",
    "power=reduce((lambda u,v : u**v), lst)\n",
    "print(power)"
   ]
  },
  {
   "cell_type": "code",
   "execution_count": 2,
   "metadata": {},
   "outputs": [
    {
     "name": "stdout",
     "output_type": "stream",
     "text": [
      "3628800\n"
     ]
    }
   ],
   "source": [
    "#Q9.2 กำหนดให้ lst = [1,2,3,4,5,6,7,8,9,10] จงเขียนฟังก์ชั่น Reduce เพื่อหาผลลัพท์สุดท้ายของดำเนินการแบบการคูณ\n",
    "\n",
    "from functools import reduce\n",
    "lst = [1,2,3,4,5,6,7,8,9,10]\n",
    "multiple = reduce((lambda u,v : u*v), lst)\n",
    "print(multiple)"
   ]
  }
 ],
 "metadata": {
  "kernelspec": {
   "display_name": "Python 3",
   "language": "python",
   "name": "python3"
  },
  "language_info": {
   "codemirror_mode": {
    "name": "ipython",
    "version": 3
   },
   "file_extension": ".py",
   "mimetype": "text/x-python",
   "name": "python",
   "nbconvert_exporter": "python",
   "pygments_lexer": "ipython3",
   "version": "3.7.3"
  }
 },
 "nbformat": 4,
 "nbformat_minor": 2
}
